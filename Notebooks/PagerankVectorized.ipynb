{
 "cells": [
  {
   "cell_type": "code",
   "execution_count": 1,
   "metadata": {},
   "outputs": [],
   "source": [
    "import numpy as np\n",
    "import random\n",
    "import graph"
   ]
  },
  {
   "cell_type": "code",
   "execution_count": 2,
   "metadata": {},
   "outputs": [],
   "source": [
    "pages, links = 100, 250  #map(int,input().split())\n",
    "epsilon = 1e-9\n",
    "d = 0.85\n",
    "iterations = 10000000\n",
    "assert links <= pages*pages\n",
    "assert d <= 1"
   ]
  },
  {
   "cell_type": "code",
   "execution_count": 3,
   "metadata": {},
   "outputs": [],
   "source": [
    "pageGraph = np.zeros(shape=(pages,pages))"
   ]
  },
  {
   "cell_type": "code",
   "execution_count": 4,
   "metadata": {},
   "outputs": [
    {
     "data": {
      "text/plain": [
       "array([[0., 0., 0., ..., 0., 0., 0.],\n",
       "       [0., 0., 0., ..., 0., 0., 0.],\n",
       "       [0., 0., 0., ..., 0., 0., 0.],\n",
       "       ...,\n",
       "       [0., 0., 0., ..., 0., 0., 0.],\n",
       "       [0., 0., 0., ..., 0., 0., 0.],\n",
       "       [0., 0., 0., ..., 0., 0., 0.]])"
      ]
     },
     "execution_count": 4,
     "metadata": {},
     "output_type": "execute_result"
    }
   ],
   "source": [
    "for i in range(links):\n",
    "    x,y = graph.genEdges(0,pages-1,pageGraph)\n",
    "    pageGraph[x,y] = 1\n",
    "pageGraph"
   ]
  },
  {
   "cell_type": "code",
   "execution_count": 5,
   "metadata": {},
   "outputs": [],
   "source": [
    "outLinks = graph.getOutDegree(pageGraph)"
   ]
  },
  {
   "cell_type": "code",
   "execution_count": 6,
   "metadata": {},
   "outputs": [],
   "source": [
    "pageRank = np.zeros(shape=(pages)) + 1/pages"
   ]
  },
  {
   "cell_type": "code",
   "execution_count": 7,
   "metadata": {},
   "outputs": [],
   "source": [
    "adjacencyFunction = graph.getAdjacencyFunction(pageGraph)"
   ]
  },
  {
   "cell_type": "code",
   "execution_count": 8,
   "metadata": {},
   "outputs": [
    {
     "name": "stdout",
     "output_type": "stream",
     "text": [
      "53\n"
     ]
    }
   ],
   "source": [
    "for i in range(iterations):\n",
    "    pageRankNew = (1-d)/pages + d * np.matmul(adjacencyFunction, pageRank)\n",
    "    if np.allclose(pageRankNew,pageRank, atol=epsilon, rtol=0.0):\n",
    "        print(i)\n",
    "        break\n",
    "    pageRank = pageRankNew"
   ]
  },
  {
   "cell_type": "code",
   "execution_count": 9,
   "metadata": {},
   "outputs": [
    {
     "name": "stdout",
     "output_type": "stream",
     "text": [
      "[0.00421949 0.00372061 0.0021375  0.00801128 0.00888694 0.00261274\n",
      " 0.00315278 0.00283508 0.00526163 0.01252349 0.0015     0.01123087\n",
      " 0.00286544 0.00708496 0.00724185 0.01127419 0.0050156  0.00603819\n",
      " 0.0015     0.00359576 0.00401305 0.01312654 0.01048238 0.00555982\n",
      " 0.01122232 0.00267907 0.00617602 0.00313888 0.00350903 0.0015\n",
      " 0.00195862 0.01095159 0.00465551 0.00709625 0.00451713 0.00420806\n",
      " 0.00638278 0.00936636 0.00607201 0.00620267 0.0038562  0.0015\n",
      " 0.00615443 0.00836368 0.00210891 0.0045927  0.02075708 0.01713198\n",
      " 0.00315501 0.00245989 0.00357059 0.00302581 0.0015     0.00984456\n",
      " 0.0015     0.00666006 0.01131796 0.00331864 0.00685994 0.00494321\n",
      " 0.00335868 0.00215822 0.00239628 0.0076475  0.00225488 0.0035588\n",
      " 0.00685844 0.00210891 0.00392733 0.00315501 0.00636693 0.00797952\n",
      " 0.00471205 0.02701459 0.00351646 0.00733799 0.00312698 0.00497426\n",
      " 0.00355239 0.00584121 0.0015     0.00671177 0.00900718 0.00340923\n",
      " 0.00658598 0.00683422 0.0015     0.0020693  0.00333492 0.00380322\n",
      " 0.0015     0.00433775 0.00449762 0.00520639 0.0021375  0.00472224\n",
      " 0.00500009 0.01481898 0.01419692 0.00730747]\n"
     ]
    }
   ],
   "source": [
    "print(pageRank)"
   ]
  }
 ],
 "metadata": {
  "kernelspec": {
   "display_name": "Python 3",
   "language": "python",
   "name": "python3"
  },
  "language_info": {
   "codemirror_mode": {
    "name": "ipython",
    "version": 3
   },
   "file_extension": ".py",
   "mimetype": "text/x-python",
   "name": "python",
   "nbconvert_exporter": "python",
   "pygments_lexer": "ipython3",
   "version": "3.7.3"
  }
 },
 "nbformat": 4,
 "nbformat_minor": 2
}
